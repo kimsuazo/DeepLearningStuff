{
  "nbformat": 4,
  "nbformat_minor": 0,
  "metadata": {
    "colab": {
      "name": "Lab05.ipynb",
      "provenance": [],
      "collapsed_sections": [],
      "include_colab_link": true
    },
    "kernelspec": {
      "name": "python3",
      "display_name": "Python 3"
    },
    "accelerator": "GPU"
  },
  "cells": [
    {
      "cell_type": "markdown",
      "metadata": {
        "id": "view-in-github",
        "colab_type": "text"
      },
      "source": [
        "<a href=\"https://colab.research.google.com/github/kimsuazo/DeepLearningStuff/blob/master/CNN's.ipynb\" target=\"_parent\"><img src=\"https://colab.research.google.com/assets/colab-badge.svg\" alt=\"Open In Colab\"/></a>"
      ]
    },
    {
      "cell_type": "markdown",
      "metadata": {
        "id": "sKQ_CAxyJG8O",
        "colab_type": "text"
      },
      "source": [
        "# Image Classification with a Convolutional Neural Network\n",
        "\n",
        "**Notebook created in PyTorch by [Santi Pascual](https://github.com/santi-pdp) for the [UPC School](https://www.talent.upc.edu/ing/estudis/formacio/curs/310400/postgrau-artificial-intelligence-deep-learning/) (2019).**\n",
        "\n",
        "Based on an original version in Keras created by [Miriam Bellver](https://imatge.upc.edu/web/people/miriam-bellver) for the [Barcelona Technology School](https://barcelonatechnologyschool.com/master/master-in-big-data-solutions/) (BTS) in 2018, and updated by [Daniel Fojo](https://www.linkedin.com/in/daniel-fojo/) and [Xavier Giro](https://imatge.upc.edu/web/people/xavier-giro) in 2019."
      ]
    },
    {
      "cell_type": "markdown",
      "metadata": {
        "id": "PDTpY5GwJPaF",
        "colab_type": "text"
      },
      "source": [
        "### Advice: Select the GPU Hardware Acceleration in the Runtime environment Menu to train the network fast."
      ]
    },
    {
      "cell_type": "markdown",
      "metadata": {
        "id": "vYym1OnNLMRq",
        "colab_type": "text"
      },
      "source": [
        "We will start replicating the imports and Dataset from the last lab (where MLPs were used to classify MNIST images)."
      ]
    },
    {
      "cell_type": "code",
      "metadata": {
        "id": "Gm880QOlJLqI",
        "colab_type": "code",
        "colab": {}
      },
      "source": [
        "import numpy as np\n",
        "np.random.seed(1)\n",
        "import torch\n",
        "import torch.optim as optim\n",
        "torch.manual_seed(1)\n",
        "if torch.cuda.is_available():\n",
        "  torch.cuda.manual_seed_all(1)\n",
        "import torch.nn as nn\n",
        "import torch.nn.functional as F\n",
        "from torchvision import datasets, transforms\n",
        "import matplotlib\n",
        "%matplotlib inline\n",
        "import matplotlib.pyplot as plt\n",
        "from timeit import default_timer as timer"
      ],
      "execution_count": 0,
      "outputs": []
    },
    {
      "cell_type": "markdown",
      "metadata": {
        "id": "-lDIiSkWJbYd",
        "colab_type": "text"
      },
      "source": [
        "### Defining the Hyper-parameters\n",
        "\n",
        "We now define the hyperparameters that are going to be used throughout the notebook\n",
        "to define the network, the data `batch_size`, the training `learning_rate`, and others."
      ]
    },
    {
      "cell_type": "code",
      "metadata": {
        "id": "hXMlhV-FJ7jN",
        "colab_type": "code",
        "colab": {}
      },
      "source": [
        "# Let's define some hyper-parameters\n",
        "hparams = {\n",
        "    'batch_size':64,\n",
        "    'num_epochs':10,\n",
        "    'test_batch_size':64,\n",
        "    'hidden_size':128,\n",
        "    'num_classes':10,\n",
        "    'num_inputs':784,\n",
        "    'learning_rate':1e-3,\n",
        "    'log_interval':100,\n",
        "}\n",
        "\n",
        "# we select to work on GPU if it is available in the machine, otherwise\n",
        "# will run on CPU\n",
        "hparams['device'] = 'cuda' if torch.cuda.is_available() else 'cpu'\n",
        "\n",
        "# whenever we send something to the selected device (X.to(device)) we already use\n",
        "# either CPU or CUDA (GPU). Importantly...\n",
        "# The .to() operation is in-place for nn.Module's, so network.to(device) suffices\n",
        "# The .to() operation is NOT in.place for tensors, so we must assign the result\n",
        "# to some tensor, like: X = X.to(device)\n"
      ],
      "execution_count": 0,
      "outputs": []
    },
    {
      "cell_type": "code",
      "metadata": {
        "id": "DsxJQGnzKXdq",
        "colab_type": "code",
        "outputId": "ea85796f-f5b9-4cb1-a2a4-31959539b5b2",
        "colab": {
          "base_uri": "https://localhost:8080/",
          "height": 274
        }
      },
      "source": [
        "mnist_trainset = datasets.MNIST('data', train=True, download=True,\n",
        "                                transform=transforms.Compose([\n",
        "                                    transforms.ToTensor(),\n",
        "                                    transforms.Normalize((0.1307,), (0.3081,))\n",
        "                                ]))\n",
        "mnist_testset = datasets.MNIST('data', train=False, \n",
        "                               transform=transforms.Compose([\n",
        "                                   transforms.ToTensor(),\n",
        "                                   transforms.Normalize((0.1307,), (0.3081,))\n",
        "                               ]))\n",
        "\n",
        "train_loader = torch.utils.data.DataLoader(\n",
        "    mnist_trainset,\n",
        "    batch_size=hparams['batch_size'], \n",
        "    shuffle=True)\n",
        "\n",
        "test_loader = torch.utils.data.DataLoader(\n",
        "    mnist_testset,\n",
        "    batch_size=hparams['test_batch_size'], \n",
        "    shuffle=False)"
      ],
      "execution_count": 0,
      "outputs": [
        {
          "output_type": "stream",
          "text": [
            "  0%|          | 0/9912422 [00:00<?, ?it/s]"
          ],
          "name": "stderr"
        },
        {
          "output_type": "stream",
          "text": [
            "Downloading http://yann.lecun.com/exdb/mnist/train-images-idx3-ubyte.gz to data/MNIST/raw/train-images-idx3-ubyte.gz\n"
          ],
          "name": "stdout"
        },
        {
          "output_type": "stream",
          "text": [
            "9920512it [00:00, 20336492.50it/s]                            \n"
          ],
          "name": "stderr"
        },
        {
          "output_type": "stream",
          "text": [
            "Extracting data/MNIST/raw/train-images-idx3-ubyte.gz to data/MNIST/raw\n"
          ],
          "name": "stdout"
        },
        {
          "output_type": "stream",
          "text": [
            "32768it [00:00, 299925.27it/s]                           \n",
            "0it [00:00, ?it/s]"
          ],
          "name": "stderr"
        },
        {
          "output_type": "stream",
          "text": [
            "Downloading http://yann.lecun.com/exdb/mnist/train-labels-idx1-ubyte.gz to data/MNIST/raw/train-labels-idx1-ubyte.gz\n",
            "Extracting data/MNIST/raw/train-labels-idx1-ubyte.gz to data/MNIST/raw\n",
            "Downloading http://yann.lecun.com/exdb/mnist/t10k-images-idx3-ubyte.gz to data/MNIST/raw/t10k-images-idx3-ubyte.gz\n"
          ],
          "name": "stdout"
        },
        {
          "output_type": "stream",
          "text": [
            "1654784it [00:00, 4977486.68it/s]                           \n",
            "8192it [00:00, 125850.63it/s]\n"
          ],
          "name": "stderr"
        },
        {
          "output_type": "stream",
          "text": [
            "Extracting data/MNIST/raw/t10k-images-idx3-ubyte.gz to data/MNIST/raw\n",
            "Downloading http://yann.lecun.com/exdb/mnist/t10k-labels-idx1-ubyte.gz to data/MNIST/raw/t10k-labels-idx1-ubyte.gz\n",
            "Extracting data/MNIST/raw/t10k-labels-idx1-ubyte.gz to data/MNIST/raw\n",
            "Processing...\n",
            "Done!\n"
          ],
          "name": "stdout"
        }
      ]
    },
    {
      "cell_type": "code",
      "metadata": {
        "id": "KLk6aBYjKcXp",
        "colab_type": "code",
        "outputId": "df332af2-3efe-43e6-a43d-ed85f8ce1726",
        "colab": {
          "base_uri": "https://localhost:8080/",
          "height": 127
        }
      },
      "source": [
        "# We can retrieve a sample from the dataset by simply indexing it\n",
        "img, label = mnist_trainset[0]\n",
        "print('Img shape: ', img.shape)\n",
        "print('Label: ', label)\n",
        "\n",
        "# Similarly, we can sample a BATCH from the dataloader by running over its iterator\n",
        "iter_ = iter(train_loader)\n",
        "bimg, blabel = next(iter_)\n",
        "print('Batch Img shape: ', bimg.shape)\n",
        "print('Batch Label shape: ', blabel.shape)\n",
        "print('The Batched tensors return a collection of {} grayscale images ({} channel, {} height pixels, {} width pixels)'.format(bimg.shape[0],\n",
        "                                                                                                                              bimg.shape[1],\n",
        "                                                                                                                              bimg.shape[2],\n",
        "                                                                                                                              bimg.shape[3]))\n",
        "print('In the case of the labels, we obtain {} batched integers, one per image'.format(blabel.shape[0]))"
      ],
      "execution_count": 0,
      "outputs": [
        {
          "output_type": "stream",
          "text": [
            "Img shape:  torch.Size([1, 28, 28])\n",
            "Label:  5\n",
            "Batch Img shape:  torch.Size([64, 1, 28, 28])\n",
            "Batch Label shape:  torch.Size([64])\n",
            "The Batched tensors return a collection of 64 grayscale images (1 channel, 28 height pixels, 28 width pixels)\n",
            "In the case of the labels, we obtain 64 batched integers, one per image\n"
          ],
          "name": "stdout"
        }
      ]
    },
    {
      "cell_type": "markdown",
      "metadata": {
        "id": "CeyWIoJeLmGA",
        "colab_type": "text"
      },
      "source": [
        "### About Convolutional Neural Networks"
      ]
    },
    {
      "cell_type": "markdown",
      "metadata": {
        "id": "dfNAe2v5NgYF",
        "colab_type": "text"
      },
      "source": [
        "Previously, we trained a network using fully connected layers to classify images. However, in the lectures we learned that when dealing with images, Convolutional Neural Networks (CNNs) are more convenient because they deal better with local correlations in the data (as with images). So now we are going to train a CNN for multiclass classification.\n",
        "\n",
        "The following lines show what a basic convnet looks like. It's a stack of Conv2D and MaxPooling2D layers.  \n",
        "\n",
        "\n",
        "\n"
      ]
    },
    {
      "cell_type": "code",
      "metadata": {
        "id": "APWzMmtzP5ir",
        "colab_type": "code",
        "colab": {}
      },
      "source": [
        "# Let's first define a 2D convolutional layer with 1 input channel, 3 output channels and (height=3, width=3) kernel size\n",
        "\n",
        "conv = nn.Conv2d(1, 3, 3)"
      ],
      "execution_count": 0,
      "outputs": []
    },
    {
      "cell_type": "markdown",
      "metadata": {
        "id": "m3sInwgsP46R",
        "colab_type": "text"
      },
      "source": [
        "Importantly, a convnet takes input tensors of shape `(batch, num_channels, image_height, image_width)`. In our case, we will configure our convnet to process inputs of size `(1, H, W)`, which is the format of MNIST images. \n",
        "Let's try with some random image.\n"
      ]
    },
    {
      "cell_type": "code",
      "metadata": {
        "id": "wkBjWql2QYuz",
        "colab_type": "code",
        "outputId": "913eb348-49b5-4500-80bb-304f77661cca",
        "colab": {
          "base_uri": "https://localhost:8080/",
          "height": 35
        }
      },
      "source": [
        "x = torch.rand(1, 1, 28, 28)\n",
        "y = conv(x)\n",
        "print('Output shape: {} = conv({})'.format(y.shape, x.shape))"
      ],
      "execution_count": 0,
      "outputs": [
        {
          "output_type": "stream",
          "text": [
            "Output shape: torch.Size([1, 3, 26, 26]) = conv(torch.Size([1, 1, 28, 28]))\n"
          ],
          "name": "stdout"
        }
      ]
    },
    {
      "cell_type": "markdown",
      "metadata": {
        "id": "aoif3i8gQwA7",
        "colab_type": "text"
      },
      "source": [
        ">> Alice: Note that the only actual number we specify from the input data is the number of channels! No image dimensions are given to the convolutional layer. These are just used to shape the data `x`.\n",
        "\n",
        ">> Bob: Why is that?\n",
        "\n",
        ">> <p>Alice: Because of PyTorch magic &#128526;</p>\n",
        "\n",
        ">> <p>Bob: No, seriously. Why? &#128565;</p>\n",
        "\n",
        ">> Alice: Because of the dynamic computational graph (DCG)!\n",
        "\n",
        "**Do you remember all that stuff about a certain dynamic computational graph? Well here it goes in action. Do we need to specify a fixed size for the images as in other frameworks (such as Keras, TensorFlow, etc.) ? Nope. Because we can forward any image size at any time through the same convolutional layer!**\n",
        "\n",
        "As another example. Let's forward an image of size (11, 11)."
      ]
    },
    {
      "cell_type": "code",
      "metadata": {
        "id": "9dtbJD03RKNb",
        "colab_type": "code",
        "outputId": "b247b271-a377-4d9a-fef5-bc4d1a82b0d6",
        "colab": {
          "base_uri": "https://localhost:8080/",
          "height": 35
        }
      },
      "source": [
        "x = torch.rand(1, 1, 11, 11)\n",
        "y = conv(x)\n",
        "print('Output shape: {} = conv({})'.format(y.shape, x.shape))"
      ],
      "execution_count": 0,
      "outputs": [
        {
          "output_type": "stream",
          "text": [
            "Output shape: torch.Size([1, 3, 9, 9]) = conv(torch.Size([1, 1, 11, 11]))\n"
          ],
          "name": "stdout"
        }
      ]
    },
    {
      "cell_type": "markdown",
      "metadata": {
        "id": "zTLaDk0rRMWI",
        "colab_type": "text"
      },
      "source": [
        "**Tadáaaa**, it did accept the input data, and give a corresponding output shape. **The only argument related to the data required in the convolutional definition is the number of channels.**\n",
        "\n",
        "### Exercise 1\n",
        "\n",
        "Why do the output spatial dimensions (`dim=2` and `dim=3`) differ from the input ones? Re-define the `conv` layer below setting the appropriate property such that the output spatial shape is the same as the input one. Look at the PyTorch documentation (`https://pytorch.org/docs/stable/nn.html#torch.nn.Conv2d`) for more reference."
      ]
    },
    {
      "cell_type": "code",
      "metadata": {
        "id": "_ru6-3u0Rz7S",
        "colab_type": "code",
        "outputId": "eb14fbe0-dbcc-4598-98f2-47a394496ac2",
        "colab": {
          "base_uri": "https://localhost:8080/",
          "height": 54
        }
      },
      "source": [
        "# TO DO: define the conv layer below and ensure that the output tensor shape in dimensions {H, W} \n",
        "#( as in [1, channels, H, W] ) will be the same as the input in both cases.\n",
        "conv=nn.Conv2d(1,3,3, padding = 1)\n",
        "\n",
        "x = torch.rand(1, 1, 20, 20)\n",
        "y = conv(x)\n",
        "print('Output shape: {} = conv({})'.format(y.shape, x.shape))\n",
        "assert y.shape[2:] == x.shape[2:], 'Err: conv not well specified!'\n",
        "x = torch.rand(1, 1, 11, 11)\n",
        "y = conv(x)\n",
        "print('Output shape: {} = conv({})'.format(y.shape, x.shape))\n",
        "assert y.shape[2:] == x.shape[2:], 'Err: conv not well specified!'"
      ],
      "execution_count": 0,
      "outputs": [
        {
          "output_type": "stream",
          "text": [
            "Output shape: torch.Size([1, 3, 20, 20]) = conv(torch.Size([1, 1, 20, 20]))\n",
            "Output shape: torch.Size([1, 3, 11, 11]) = conv(torch.Size([1, 1, 11, 11]))\n"
          ],
          "name": "stdout"
        }
      ]
    },
    {
      "cell_type": "markdown",
      "metadata": {
        "id": "kY7hUMauUE9_",
        "colab_type": "text"
      },
      "source": [
        "### About Pooling\n",
        "\n",
        "Pooling refers to a block where downsampling happens. In the case of CNNs, as they process full images throughout a certain stack of layers that can get quite deep, they occupy a lot of memory to store the so called feature maps. Feature maps are the intermediate hidden activations of a CNN. The next image ([from a Quora response](https://www.quora.com/What-is-max-pooling-in-convolutional-neural-networks)) is very self-explainatory of what **Max Pooling** does applied to images and spatial feature maps.\n",
        "\n",
        "![](https://qph.fs.quoracdn.net/main-qimg-40cdeb3b43594f4b1b1b6e2c137e80b7)\n",
        "\n",
        "As you see, it decimates neighboring regions by picking the max value within that region. And that happens for every channel in the feature map (or the image, if it is grayscale/RGB).\n",
        "\n",
        "The are also other pooling methods, like [`AvgPool2d`](https://pytorch.org/docs/stable/nn.html#torch.nn.AvgPool2d), strided Convolutions (simply incrasing the `stride > 1` of the `torch.nn.Conv2d` layer, etc. Each one has its advantages and drawbacks, which are so far out of the scope of this study on how to define a CNN in PyTorch.\n",
        "\n",
        "In any case, a good question for now is: **what are the advantages of using pooling of any kind?**\n",
        "\n",
        "Let's define a small CNN without pooling and another one with pooling, and let's check the amount of memory used by each in terms of feature map usage and the time it takes to forward an image of `512x512` pixels with just `1` input channel (hence greyscale). "
      ]
    },
    {
      "cell_type": "code",
      "metadata": {
        "id": "yPW5q16ER0lq",
        "colab_type": "code",
        "colab": {}
      },
      "source": [
        "NUM_BITS_FLOAT32 = 32\n",
        "\n",
        "# Let's define a class that encapsulates a collection of layers we pass in\n",
        "# for each forwarded layer, it retains the amount of consumed memory for\n",
        "# the returned feature map. It also displays the total amount used after \n",
        "# all blocks are ran.\n",
        "class CNNMemAnalyzer(nn.Module):\n",
        "\n",
        "  def __init__(self, layers):\n",
        "    super().__init__()\n",
        "    self.layers = layers\n",
        "  \n",
        "  def forward(self, x):\n",
        "    tot_mbytes = 0\n",
        "    spat_res = []\n",
        "    for layer in self.layers:\n",
        "      h = layer(x)\n",
        "      mem_h_bytes = np.cumprod(h.shape)[-1] * NUM_BITS_FLOAT32 // 8\n",
        "      mem_h_mb = mem_h_bytes / 1e6\n",
        "      print('-' * 30)\n",
        "      print('New feature map of shape: ', h.shape)\n",
        "      print('Mem usage: {} MB'.format(mem_h_mb))\n",
        "      x = h\n",
        "      if isinstance(layer, nn.Conv2d):\n",
        "        # keep track of the current spatial width for conv layers\n",
        "        spat_res.append(h.shape[-1])\n",
        "      tot_mbytes += mem_h_mb\n",
        "    print('=' * 30)\n",
        "    print('Total used memory: {:.2f} MB'.format(tot_mbytes))\n",
        "    return tot_mbytes, spat_res"
      ],
      "execution_count": 0,
      "outputs": []
    },
    {
      "cell_type": "markdown",
      "metadata": {
        "id": "bB1Llpg2ZkB7",
        "colab_type": "text"
      },
      "source": [
        "#### Forwarding the 512x512 image through a non-pooled CNN"
      ]
    },
    {
      "cell_type": "code",
      "metadata": {
        "id": "5sY9XQB3R0n-",
        "colab_type": "code",
        "outputId": "9271003a-6f9f-47de-a650-cd04f7a7cc06",
        "colab": {
          "base_uri": "https://localhost:8080/",
          "height": 348
        }
      },
      "source": [
        "# First, make a plain stack of convlayers\n",
        "cnn = CNNMemAnalyzer(nn.ModuleList([nn.Conv2d(1, 32, 3),\n",
        "                                    nn.Conv2d(32, 64, 3),\n",
        "                                    nn.Conv2d(64, 64, 3),\n",
        "                                    nn.Conv2d(64, 128, 3),\n",
        "                                    nn.Conv2d(128, 512, 3)]))\n",
        "\n",
        "# Let's work with a realistic 512x512 image size\n",
        "# Also, keep track of time to make forward\n",
        "beg_t = timer()\n",
        "nopool_mbytes, nopool_res = cnn(torch.randn(1, 1, 512, 512))\n",
        "end_t = timer()\n",
        "nopool_time = end_t - beg_t\n",
        "print('Total inference time for non-pooled CNN: {:.2f} s'.format(nopool_time))"
      ],
      "execution_count": 0,
      "outputs": [
        {
          "output_type": "stream",
          "text": [
            "------------------------------\n",
            "New feature map of shape:  torch.Size([1, 32, 510, 510])\n",
            "Mem usage: 33.2928 MB\n",
            "------------------------------\n",
            "New feature map of shape:  torch.Size([1, 64, 508, 508])\n",
            "Mem usage: 66.064384 MB\n",
            "------------------------------\n",
            "New feature map of shape:  torch.Size([1, 64, 506, 506])\n",
            "Mem usage: 65.545216 MB\n",
            "------------------------------\n",
            "New feature map of shape:  torch.Size([1, 128, 504, 504])\n",
            "Mem usage: 130.056192 MB\n",
            "------------------------------\n",
            "New feature map of shape:  torch.Size([1, 512, 502, 502])\n",
            "Mem usage: 516.104192 MB\n",
            "==============================\n",
            "Total used memory: 811.06 MB\n",
            "Total inference time for non-pooled CNN: 6.03 s\n"
          ],
          "name": "stdout"
        }
      ]
    },
    {
      "cell_type": "markdown",
      "metadata": {
        "id": "D4UDx8umZntD",
        "colab_type": "text"
      },
      "source": [
        "#### Forwarding the 512x512 image through a pooled CNN"
      ]
    },
    {
      "cell_type": "code",
      "metadata": {
        "id": "ETamfN8nR0pw",
        "colab_type": "code",
        "outputId": "9439ee05-53c5-4c47-acb2-868fba232ce3",
        "colab": {
          "base_uri": "https://localhost:8080/",
          "height": 458
        }
      },
      "source": [
        "# Now, let's make a stack of convlayers combined with MaxPoolings\n",
        "cnn = CNNMemAnalyzer(nn.ModuleList([nn.Conv2d(1, 32, 3),\n",
        "                                    nn.MaxPool2d(2),\n",
        "                                    nn.Conv2d(32, 64, 3),\n",
        "                                    nn.MaxPool2d(2),\n",
        "                                    nn.Conv2d(64, 64, 3),\n",
        "                                    nn.Conv2d(64, 128, 3),\n",
        "                                    nn.Conv2d(128, 512, 3)]))\n",
        "\n",
        "beg_t = timer()\n",
        "pool_mbytes, pool_res = cnn(torch.randn(1, 1, 512, 512))\n",
        "end_t = timer()\n",
        "pool_time = end_t - beg_t\n",
        "print('Total inference time for pooled CNN: {:.2f} s'.format(pool_time))"
      ],
      "execution_count": 0,
      "outputs": [
        {
          "output_type": "stream",
          "text": [
            "------------------------------\n",
            "New feature map of shape:  torch.Size([1, 32, 510, 510])\n",
            "Mem usage: 33.2928 MB\n",
            "------------------------------\n",
            "New feature map of shape:  torch.Size([1, 32, 255, 255])\n",
            "Mem usage: 8.3232 MB\n",
            "------------------------------\n",
            "New feature map of shape:  torch.Size([1, 64, 253, 253])\n",
            "Mem usage: 16.386304 MB\n",
            "------------------------------\n",
            "New feature map of shape:  torch.Size([1, 64, 126, 126])\n",
            "Mem usage: 4.064256 MB\n",
            "------------------------------\n",
            "New feature map of shape:  torch.Size([1, 64, 124, 124])\n",
            "Mem usage: 3.936256 MB\n",
            "------------------------------\n",
            "New feature map of shape:  torch.Size([1, 128, 122, 122])\n",
            "Mem usage: 7.620608 MB\n",
            "------------------------------\n",
            "New feature map of shape:  torch.Size([1, 512, 120, 120])\n",
            "Mem usage: 29.4912 MB\n",
            "==============================\n",
            "Total used memory: 103.11 MB\n",
            "Total inference time for pooled CNN: 0.49 s\n"
          ],
          "name": "stdout"
        }
      ]
    },
    {
      "cell_type": "code",
      "metadata": {
        "colab_type": "code",
        "id": "UJe5vXuycBsP",
        "outputId": "45660f2b-0c6c-48c5-8eee-3ebb5bdc683b",
        "colab": {
          "base_uri": "https://localhost:8080/",
          "height": 54
        }
      },
      "source": [
        "mem_ratio = 1. - pool_mbytes / nopool_mbytes\n",
        "print('Total saved memory with poolings: ', 100. * mem_ratio)\n",
        "\n",
        "time_ratio = nopool_time / pool_time\n",
        "print('Total inference speed increase with poolings: x{:.1f}'.format(time_ratio))"
      ],
      "execution_count": 0,
      "outputs": [
        {
          "output_type": "stream",
          "text": [
            "Total saved memory with poolings:  87.28648064808753\n",
            "Total inference speed increase with poolings: x12.3\n"
          ],
          "name": "stdout"
        }
      ]
    },
    {
      "cell_type": "code",
      "metadata": {
        "id": "W7VpsVitcI4U",
        "colab_type": "code",
        "outputId": "17336b1b-46d5-4be4-e2a7-b4db756eb2ca",
        "colab": {
          "base_uri": "https://localhost:8080/",
          "height": 265
        }
      },
      "source": [
        "# Let's plot the width of each feature map as we get deeper into the network\n",
        "_ = plt.plot(nopool_res, label='No pooling')\n",
        "_ = plt.plot(pool_res, label='Pooling')\n",
        "_ = plt.legend()"
      ],
      "execution_count": 0,
      "outputs": [
        {
          "output_type": "display_data",
          "data": {
            "image/png": "[encoded data removed]",
            "text/plain": [
              "<Figure size 432x288 with 1 Axes>"
            ]
          },
          "metadata": {
            "tags": []
          }
        }
      ]
    },
    {
      "cell_type": "markdown",
      "metadata": {
        "id": "OwZhykg5XajA",
        "colab_type": "text"
      },
      "source": [
        "### Key Observations\n",
        "\n",
        "* We save 87.3% of memory having a model which is pooling after the first couple of conv layers. \n",
        "* The model that contains pooling runs 11.1 times faster in inference than the other one.\n",
        "* The width dimension decreases exponentially when inserting the poolings, compared to the one without those poolings.\n",
        "\n",
        "The convolutional operator works by sweeping the kernel filters through the input image. If we pool `x2` in a couple layers, from the 3rd convlayer onwards we have a `x4` smaller spatial resolution. This means it has to run through by far less pixels to process the whole feature map in those layers. Also, each feature occupies much less memory for the reduced resolution. Pooling is hence a practical downsampling to make our nets fit in memory, and also to get the salient features from the previous incoming feature maps (it gets the maximum activation and forwards only that one within a window). In general, for classification, it is usual to have pooling to condense spatial dimensions into less-and-more-abstract ones. This is done by finish processing the last reduced spatial feature map with some fully connected layer that mixes it all up."
      ]
    },
    {
      "cell_type": "markdown",
      "metadata": {
        "id": "uAN1p6hrcoQn",
        "colab_type": "text"
      },
      "source": [
        "## Grand Finale: Building a (pseudo) LeNet model\n",
        "\n",
        "Here we will gather the puzzle pieces we have so far (tensor manipulations, convs, poolings, fully connected layers, etc.) and we will define a pseudo-LeNet model ([LeNet ref](http://yann.lecun.com/exdb/publis/pdf/lecun-01a.pdf)). We say \"pseudo\" because we will obviate the type of actual pooling that the authors proposed by then, or the gaussian connections, or the `Tanh` activations. We will instead use `MaxPooling`s, `Fully connected` layers all the way through, and `ReLU` activations.\n",
        "\n",
        "For reference, the LeNet model is the following:\n",
        "![](https://miro.medium.com/max/2154/1*1TI1aGBZ4dybR6__DI9dzA.png)"
      ]
    },
    {
      "cell_type": "markdown",
      "metadata": {
        "id": "1K_BP1dKiC28",
        "colab_type": "text"
      },
      "source": [
        "### Exercise 2\n",
        "\n",
        "Make the `ConvBlock` class to properly do: `Conv2d`, `ReLU`, and `MaxPool2d`. Ensure that for an input of size `1x32x32` you obtain an output feature map of size `6x14x14` as shown in the figure above for layer `S2`."
      ]
    },
    {
      "cell_type": "code",
      "metadata": {
        "id": "BbZbJvnuiV_0",
        "colab_type": "code",
        "outputId": "13c60262-7838-46be-a78a-a64695458b7e",
        "colab": {
          "base_uri": "https://localhost:8080/",
          "height": 52
        }
      },
      "source": [
        "class ConvBlock(nn.Module):\n",
        "\n",
        "  def __init__(self, num_inp_channels, num_out_fmaps, \n",
        "               kernel_size, pool_size=2):\n",
        "    super().__init__()\n",
        "    # TODO: define the 3 modules needed\n",
        "    self.conv = nn.Conv2d(num_inp_channels, num_out_fmaps, kernel_size)\n",
        "    self.relu = nn.ReLU()\n",
        "    self.maxpool = nn.MaxPool2d(pool_size)\n",
        "  \n",
        "  def forward(self, x):\n",
        "    return self.maxpool(self.relu(self.conv(x)))\n",
        "\n",
        "x = torch.randn(1, 1, 32, 32)\n",
        "y = ConvBlock(1, 6, 5, 4)(x)\n",
        "assert y.shape[1] == 6, 'The amount of feature maps is not correct!'\n",
        "#assert y.shape[2] == 14 and y.shape[3] == 14, 'The spatial dimensions are not correct!'\n",
        "print('Input shape: {}'.format(x.shape))\n",
        "print('ConvBlock output shape (S2 level in Figure): {}'.format(y.shape))"
      ],
      "execution_count": 0,
      "outputs": [
        {
          "output_type": "stream",
          "text": [
            "Input shape: torch.Size([1, 1, 32, 32])\n",
            "ConvBlock output shape (S2 level in Figure): torch.Size([1, 6, 7, 7])\n"
          ],
          "name": "stdout"
        }
      ]
    },
    {
      "cell_type": "markdown",
      "metadata": {
        "id": "9nw1fBFGjPfE",
        "colab_type": "text"
      },
      "source": [
        "### Exercise 3\n",
        "\n",
        "Finish the `PseudoLeNet` class by including the following: \n",
        "1. As the input images from MNIST are 28x28, add padding to make them 32x32 with the `torch.nn.ConstantPad2d` (https://pytorch.org/docs/stable/nn.html#torch.nn.ConstantPad2d).\n",
        "2. Build the `mlp` classifier as a `nn.Sequential` stack of fully connected layers and ReLU activations, with the sizes shown in the figure above: [120, 84, 10]. Plug the appropriate output activation in the end to do multi-class classification.\n",
        "3. Remember to \"flatten\" the feature maps coming out of the second `ConvBlock` and connect them to the output `mlp` to build the classifier in the `forward` function. This has to be done because fully connected layers (`Linear`) only accept features without any spatial dimension. Hence, all these spatial dimensions and channels are unrolled into single vectors, one per batch sample. **HINT: Remember the `.view()` operator to change tensors shape!**"
      ]
    },
    {
      "cell_type": "code",
      "metadata": {
        "id": "4mss9ZpNfs3J",
        "colab_type": "code",
        "outputId": "b8050db0-4850-4fe7-de22-e0cc29fc2b66",
        "colab": {
          "base_uri": "https://localhost:8080/",
          "height": 92
        }
      },
      "source": [
        "class PseudoLeNet(nn.Module):\n",
        "\n",
        "  def __init__(self):\n",
        "    super().__init__()\n",
        "    # TODO: Define the padding\n",
        "    self.pad = nn.ConstantPad2d(2, 0)\n",
        "    self.conv1 = ConvBlock(1, 6, 5)\n",
        "    self.conv2 = ConvBlock(6, 16, 5)\n",
        "    # TODO: Define the MLP at the deepest layers\n",
        "    self.mlp = nn.Sequential(\n",
        "        nn.Linear(400, 120),\n",
        "        nn.ReLU(),\n",
        "        nn.Linear(120, 84),\n",
        "        nn.ReLU(),\n",
        "        nn.Linear(84, 10),\n",
        "        nn.LogSoftmax()\n",
        "    )\n",
        "\n",
        "  def forward(self, x):\n",
        "    x = self.pad(x)\n",
        "    x = self.conv1(x)\n",
        "    x = self.conv2(x)\n",
        "    # Obtain the parameters of the tensor in terms of:\n",
        "    # 1) batch size\n",
        "    # 2) number of channels\n",
        "    # 3) spatial \"height\"\n",
        "    # 4) spatial \"width\"\n",
        "    bsz, nch, height, width = x.shape\n",
        "    # TODO: Flatten the feature map with the view() operator \n",
        "    # within each batch sample    \n",
        "    x = x.view(bsz, nch * height * width)\n",
        "    y = self.mlp(x)\n",
        "    return y\n",
        "\n",
        "# Let's forward a toy example emulating the MNIST image size\n",
        "plenet = PseudoLeNet()\n",
        "y = plenet(torch.randn(1, 1, 28, 28))\n",
        "print(y.shape)"
      ],
      "execution_count": 0,
      "outputs": [
        {
          "output_type": "stream",
          "text": [
            "torch.Size([1, 10])\n"
          ],
          "name": "stdout"
        },
        {
          "output_type": "stream",
          "text": [
            "/usr/local/lib/python3.6/dist-packages/torch/nn/modules/container.py:92: UserWarning: Implicit dimension choice for log_softmax has been deprecated. Change the call to include dim=X as an argument.\n",
            "  input = module(input)\n"
          ],
          "name": "stderr"
        }
      ]
    },
    {
      "cell_type": "markdown",
      "metadata": {
        "id": "3mbDGLTbpbRl",
        "colab_type": "text"
      },
      "source": [
        "### Now it's time to train and test the model. \n",
        "\n",
        "We take the previous training and test codes from MLP lab models and run them straightaway. Execute the cells below without more hessitation."
      ]
    },
    {
      "cell_type": "code",
      "metadata": {
        "id": "S_KLCs2BkZ2q",
        "colab_type": "code",
        "colab": {}
      },
      "source": [
        "def correct_predictions(predicted_batch, label_batch):\n",
        "  pred = predicted_batch.argmax(dim=1, keepdim=True) # get the index of the max log-probability\n",
        "  acum = pred.eq(label_batch.view_as(pred)).sum().item()\n",
        "  return acum\n",
        "\n",
        "def train_epoch(train_loader, network, optimizer, criterion, hparams):\n",
        "  # Activate the train=True flag inside the model\n",
        "  network.train()\n",
        "  device = hparams['device']\n",
        "  avg_loss = None\n",
        "  avg_weight = 0.1\n",
        "  for batch_idx, (data, target) in enumerate(train_loader):\n",
        "      data, target = data.to(device), target.to(device)\n",
        "      optimizer.zero_grad()\n",
        "      output = network(data)\n",
        "      loss = criterion(output, target)\n",
        "      loss.backward()\n",
        "      if avg_loss:\n",
        "        avg_loss = avg_weight * loss.item() + (1 - avg_weight) * avg_loss\n",
        "      else:\n",
        "        avg_loss = loss.item()\n",
        "      optimizer.step()\n",
        "      if batch_idx % hparams['log_interval'] == 0:\n",
        "          print('Train Epoch: {} [{}/{} ({:.0f}%)]\\tLoss: {:.6f}'.format(\n",
        "              epoch, batch_idx * len(data), len(train_loader.dataset),\n",
        "              100. * batch_idx / len(train_loader), loss.item()))\n",
        "  return avg_loss\n",
        "\n",
        "def test_epoch(test_loader, network, hparams):\n",
        "    network.eval()\n",
        "    device = hparams['device']\n",
        "    test_loss = 0\n",
        "    acc = 0\n",
        "    with torch.no_grad():\n",
        "        for data, target in test_loader:\n",
        "            data, target = data.to(device), target.to(device)\n",
        "            output = network(data)\n",
        "            test_loss += criterion(output, target, reduction='sum').item() # sum up batch loss\n",
        "            # compute number of correct predictions in the batch\n",
        "            acc += correct_predictions(output, target)\n",
        "    # Average acc across all correct predictions batches now\n",
        "    test_loss /= len(test_loader.dataset)\n",
        "    test_acc = 100. * acc / len(test_loader.dataset)\n",
        "    print('\\nTest set: Average loss: {:.4f}, Accuracy: {}/{} ({:.0f}%)\\n'.format(\n",
        "        test_loss, acc, len(test_loader.dataset), test_acc,\n",
        "        ))\n",
        "    return test_loss, test_acc"
      ],
      "execution_count": 0,
      "outputs": []
    },
    {
      "cell_type": "code",
      "metadata": {
        "id": "jUeo1IdOkrcQ",
        "colab_type": "code",
        "outputId": "8a518927-2abc-48cc-c024-359be1496213",
        "colab": {
          "base_uri": "https://localhost:8080/",
          "height": 1000
        }
      },
      "source": [
        "tr_losses = []\n",
        "te_losses = []\n",
        "te_accs = []\n",
        "network = PseudoLeNet()\n",
        "network.to(hparams['device'])\n",
        "optimizer = optim.RMSprop(network.parameters(), lr=hparams['learning_rate'])\n",
        "criterion = F.nll_loss\n",
        "\n",
        "for epoch in range(1, hparams['num_epochs'] + 1):\n",
        "  tr_losses.append(train_epoch(train_loader, network, optimizer, criterion, hparams))\n",
        "  te_loss, te_acc = test_epoch(test_loader, network, hparams)\n",
        "  te_losses.append(te_loss)\n",
        "  te_accs.append(te_acc)\n"
      ],
      "execution_count": 0,
      "outputs": [
        {
          "output_type": "stream",
          "text": [
            "/usr/local/lib/python3.6/dist-packages/torch/nn/modules/container.py:92: UserWarning: Implicit dimension choice for log_softmax has been deprecated. Change the call to include dim=X as an argument.\n",
            "  input = module(input)\n"
          ],
          "name": "stderr"
        },
        {
          "output_type": "stream",
          "text": [
            "Train Epoch: 1 [0/60000 (0%)]\tLoss: 2.324406\n",
            "Train Epoch: 1 [6400/60000 (11%)]\tLoss: 0.128023\n",
            "Train Epoch: 1 [12800/60000 (21%)]\tLoss: 0.105216\n",
            "Train Epoch: 1 [19200/60000 (32%)]\tLoss: 0.040545\n",
            "Train Epoch: 1 [25600/60000 (43%)]\tLoss: 0.171201\n",
            "Train Epoch: 1 [32000/60000 (53%)]\tLoss: 0.090188\n",
            "Train Epoch: 1 [38400/60000 (64%)]\tLoss: 0.078275\n",
            "Train Epoch: 1 [44800/60000 (75%)]\tLoss: 0.050390\n",
            "Train Epoch: 1 [51200/60000 (85%)]\tLoss: 0.026995\n",
            "Train Epoch: 1 [57600/60000 (96%)]\tLoss: 0.016613\n",
            "\n",
            "Test set: Average loss: 0.0511, Accuracy: 9845/10000 (98%)\n",
            "\n",
            "Train Epoch: 2 [0/60000 (0%)]\tLoss: 0.008128\n",
            "Train Epoch: 2 [6400/60000 (11%)]\tLoss: 0.042735\n",
            "Train Epoch: 2 [12800/60000 (21%)]\tLoss: 0.008388\n",
            "Train Epoch: 2 [19200/60000 (32%)]\tLoss: 0.076429\n",
            "Train Epoch: 2 [25600/60000 (43%)]\tLoss: 0.077455\n",
            "Train Epoch: 2 [32000/60000 (53%)]\tLoss: 0.031273\n",
            "Train Epoch: 2 [38400/60000 (64%)]\tLoss: 0.079136\n",
            "Train Epoch: 2 [44800/60000 (75%)]\tLoss: 0.084739\n",
            "Train Epoch: 2 [51200/60000 (85%)]\tLoss: 0.041527\n",
            "Train Epoch: 2 [57600/60000 (96%)]\tLoss: 0.095854\n",
            "\n",
            "Test set: Average loss: 0.0494, Accuracy: 9852/10000 (99%)\n",
            "\n",
            "Train Epoch: 3 [0/60000 (0%)]\tLoss: 0.011259\n",
            "Train Epoch: 3 [6400/60000 (11%)]\tLoss: 0.009740\n",
            "Train Epoch: 3 [12800/60000 (21%)]\tLoss: 0.057420\n",
            "Train Epoch: 3 [19200/60000 (32%)]\tLoss: 0.030449\n",
            "Train Epoch: 3 [25600/60000 (43%)]\tLoss: 0.036652\n",
            "Train Epoch: 3 [32000/60000 (53%)]\tLoss: 0.003487\n",
            "Train Epoch: 3 [38400/60000 (64%)]\tLoss: 0.054724\n",
            "Train Epoch: 3 [44800/60000 (75%)]\tLoss: 0.112722\n",
            "Train Epoch: 3 [51200/60000 (85%)]\tLoss: 0.021569\n",
            "Train Epoch: 3 [57600/60000 (96%)]\tLoss: 0.018103\n",
            "\n",
            "Test set: Average loss: 0.0416, Accuracy: 9870/10000 (99%)\n",
            "\n",
            "Train Epoch: 4 [0/60000 (0%)]\tLoss: 0.012856\n",
            "Train Epoch: 4 [6400/60000 (11%)]\tLoss: 0.002680\n",
            "Train Epoch: 4 [12800/60000 (21%)]\tLoss: 0.023096\n",
            "Train Epoch: 4 [19200/60000 (32%)]\tLoss: 0.024793\n",
            "Train Epoch: 4 [25600/60000 (43%)]\tLoss: 0.006792\n",
            "Train Epoch: 4 [32000/60000 (53%)]\tLoss: 0.010173\n",
            "Train Epoch: 4 [38400/60000 (64%)]\tLoss: 0.031922\n",
            "Train Epoch: 4 [44800/60000 (75%)]\tLoss: 0.017974\n",
            "Train Epoch: 4 [51200/60000 (85%)]\tLoss: 0.000888\n",
            "Train Epoch: 4 [57600/60000 (96%)]\tLoss: 0.001742\n",
            "\n",
            "Test set: Average loss: 0.0367, Accuracy: 9897/10000 (99%)\n",
            "\n",
            "Train Epoch: 5 [0/60000 (0%)]\tLoss: 0.021808\n",
            "Train Epoch: 5 [6400/60000 (11%)]\tLoss: 0.005051\n",
            "Train Epoch: 5 [12800/60000 (21%)]\tLoss: 0.000462\n",
            "Train Epoch: 5 [19200/60000 (32%)]\tLoss: 0.065946\n",
            "Train Epoch: 5 [25600/60000 (43%)]\tLoss: 0.041183\n",
            "Train Epoch: 5 [32000/60000 (53%)]\tLoss: 0.004229\n",
            "Train Epoch: 5 [38400/60000 (64%)]\tLoss: 0.000350\n",
            "Train Epoch: 5 [44800/60000 (75%)]\tLoss: 0.162393\n",
            "Train Epoch: 5 [51200/60000 (85%)]\tLoss: 0.000801\n",
            "Train Epoch: 5 [57600/60000 (96%)]\tLoss: 0.000322\n",
            "\n",
            "Test set: Average loss: 0.0419, Accuracy: 9875/10000 (99%)\n",
            "\n",
            "Train Epoch: 6 [0/60000 (0%)]\tLoss: 0.002217\n",
            "Train Epoch: 6 [6400/60000 (11%)]\tLoss: 0.005216\n",
            "Train Epoch: 6 [12800/60000 (21%)]\tLoss: 0.016701\n",
            "Train Epoch: 6 [19200/60000 (32%)]\tLoss: 0.143715\n",
            "Train Epoch: 6 [25600/60000 (43%)]\tLoss: 0.026646\n",
            "Train Epoch: 6 [32000/60000 (53%)]\tLoss: 0.000409\n",
            "Train Epoch: 6 [38400/60000 (64%)]\tLoss: 0.069260\n",
            "Train Epoch: 6 [44800/60000 (75%)]\tLoss: 0.001475\n",
            "Train Epoch: 6 [51200/60000 (85%)]\tLoss: 0.089448\n",
            "Train Epoch: 6 [57600/60000 (96%)]\tLoss: 0.022146\n",
            "\n",
            "Test set: Average loss: 0.0373, Accuracy: 9890/10000 (99%)\n",
            "\n",
            "Train Epoch: 7 [0/60000 (0%)]\tLoss: 0.028687\n",
            "Train Epoch: 7 [6400/60000 (11%)]\tLoss: 0.059102\n",
            "Train Epoch: 7 [12800/60000 (21%)]\tLoss: 0.037767\n",
            "Train Epoch: 7 [19200/60000 (32%)]\tLoss: 0.011248\n",
            "Train Epoch: 7 [25600/60000 (43%)]\tLoss: 0.001944\n",
            "Train Epoch: 7 [32000/60000 (53%)]\tLoss: 0.004349\n",
            "Train Epoch: 7 [38400/60000 (64%)]\tLoss: 0.010990\n",
            "Train Epoch: 7 [44800/60000 (75%)]\tLoss: 0.009695\n",
            "Train Epoch: 7 [51200/60000 (85%)]\tLoss: 0.003158\n",
            "Train Epoch: 7 [57600/60000 (96%)]\tLoss: 0.001346\n",
            "\n",
            "Test set: Average loss: 0.0357, Accuracy: 9905/10000 (99%)\n",
            "\n",
            "Train Epoch: 8 [0/60000 (0%)]\tLoss: 0.004440\n",
            "Train Epoch: 8 [6400/60000 (11%)]\tLoss: 0.003274\n",
            "Train Epoch: 8 [12800/60000 (21%)]\tLoss: 0.001872\n",
            "Train Epoch: 8 [19200/60000 (32%)]\tLoss: 0.007790\n",
            "Train Epoch: 8 [25600/60000 (43%)]\tLoss: 0.000153\n",
            "Train Epoch: 8 [32000/60000 (53%)]\tLoss: 0.000411\n",
            "Train Epoch: 8 [38400/60000 (64%)]\tLoss: 0.000610\n",
            "Train Epoch: 8 [44800/60000 (75%)]\tLoss: 0.000211\n",
            "Train Epoch: 8 [51200/60000 (85%)]\tLoss: 0.000353\n",
            "Train Epoch: 8 [57600/60000 (96%)]\tLoss: 0.004001\n",
            "\n",
            "Test set: Average loss: 0.0396, Accuracy: 9893/10000 (99%)\n",
            "\n",
            "Train Epoch: 9 [0/60000 (0%)]\tLoss: 0.001061\n",
            "Train Epoch: 9 [6400/60000 (11%)]\tLoss: 0.005204\n",
            "Train Epoch: 9 [12800/60000 (21%)]\tLoss: 0.050005\n",
            "Train Epoch: 9 [19200/60000 (32%)]\tLoss: 0.000862\n",
            "Train Epoch: 9 [25600/60000 (43%)]\tLoss: 0.015793\n",
            "Train Epoch: 9 [32000/60000 (53%)]\tLoss: 0.046500\n",
            "Train Epoch: 9 [38400/60000 (64%)]\tLoss: 0.000265\n",
            "Train Epoch: 9 [44800/60000 (75%)]\tLoss: 0.011943\n",
            "Train Epoch: 9 [51200/60000 (85%)]\tLoss: 0.002651\n",
            "Train Epoch: 9 [57600/60000 (96%)]\tLoss: 0.003152\n",
            "\n",
            "Test set: Average loss: 0.0411, Accuracy: 9893/10000 (99%)\n",
            "\n",
            "Train Epoch: 10 [0/60000 (0%)]\tLoss: 0.000768\n",
            "Train Epoch: 10 [6400/60000 (11%)]\tLoss: 0.000817\n",
            "Train Epoch: 10 [12800/60000 (21%)]\tLoss: 0.000027\n",
            "Train Epoch: 10 [19200/60000 (32%)]\tLoss: 0.005666\n",
            "Train Epoch: 10 [25600/60000 (43%)]\tLoss: 0.000332\n",
            "Train Epoch: 10 [32000/60000 (53%)]\tLoss: 0.002669\n",
            "Train Epoch: 10 [38400/60000 (64%)]\tLoss: 0.004062\n",
            "Train Epoch: 10 [44800/60000 (75%)]\tLoss: 0.008058\n",
            "Train Epoch: 10 [51200/60000 (85%)]\tLoss: 0.000772\n",
            "Train Epoch: 10 [57600/60000 (96%)]\tLoss: 0.011438\n",
            "\n",
            "Test set: Average loss: 0.0484, Accuracy: 9893/10000 (99%)\n",
            "\n"
          ],
          "name": "stdout"
        }
      ]
    },
    {
      "cell_type": "code",
      "metadata": {
        "id": "UKy9DAUJlQRw",
        "colab_type": "code",
        "outputId": "e7b345af-2157-4081-8db0-9bf5952186ec",
        "colab": {
          "base_uri": "https://localhost:8080/",
          "height": 517
        }
      },
      "source": [
        "plt.figure(figsize=(10, 8))\n",
        "plt.subplot(2,1,1)\n",
        "plt.xlabel('Epoch')\n",
        "plt.ylabel('NLLLoss')\n",
        "plt.plot(tr_losses, label='train')\n",
        "plt.plot(te_losses, label='test')\n",
        "plt.legend()\n",
        "plt.subplot(2,1,2)\n",
        "plt.xlabel('Epoch')\n",
        "plt.ylabel('Test Accuracy [%]')\n",
        "plt.plot(te_accs)"
      ],
      "execution_count": 0,
      "outputs": [
        {
          "output_type": "execute_result",
          "data": {
            "text/plain": [
              "[<matplotlib.lines.Line2D at 0x7f0eb6dde7f0>]"
            ]
          },
          "metadata": {
            "tags": []
          },
          "execution_count": 42
        },
        {
          "output_type": "display_data",
          "data": {
            "image/png": "[encoded data removed]",
            "text/plain": [
              "<Figure size 720x576 with 2 Axes>"
            ]
          },
          "metadata": {
            "tags": []
          }
        }
      ]
    },
    {
      "cell_type": "markdown",
      "metadata": {
        "id": "0P6TdeQGpnnP",
        "colab_type": "text"
      },
      "source": [
        "### The final result should be slightly above 99%, better than the MLP model for a comparable amount of training."
      ]
    }
  ]
}